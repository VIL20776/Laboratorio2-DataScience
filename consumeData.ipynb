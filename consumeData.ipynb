{
 "cells": [
  {
   "cell_type": "code",
   "execution_count": null,
   "metadata": {},
   "outputs": [],
   "source": [
    "import pandas as pd\n",
    "import numpy as np\n",
    "import matplotlib.pyplot as plt\n",
    "import statsmodels.tsa as tsa\n",
    "import statsmodels as sm\n",
    "from datetime import datetime\n",
    "from statsmodels.tsa.stattools import adfuller\n",
    "from statsmodels.tsa.seasonal import seasonal_decompose\n",
    "from statsmodels.tsa.stattools import acf, pacf\n",
    "from statsmodels.tsa.arima_model import ARIMA\n",
    "from statsmodels.tsa.statespace.sarimax import SARIMAX"
   ]
  },
  {
   "cell_type": "code",
   "execution_count": null,
   "metadata": {},
   "outputs": [],
   "source": [
    "data = pd.read_excel(\"CONSUMO-2024-05.xlsx\", index_col=\"Fecha\", parse_dates=[\"Fecha\"], date_format=\"%Y-%m-%d \", skiprows=6, skipfooter=3)\n",
    "\n",
    "consume_data = data[['Gasolina regular', 'Gasolina superior', 'Gas licuado de petróleo']]\n",
    "consume_data "
   ]
  },
  {
   "cell_type": "code",
   "execution_count": null,
   "metadata": {},
   "outputs": [],
   "source": [
    "start_date = '2017-12-01'\n",
    "\n",
    "consume_data['Diesel'] = np.where((data.index <= start_date),\n",
    "                                    data['Diesel alto azufre'],\n",
    "                                    data['Diesel bajo azufre'])\n",
    "\n",
    "consume_data['Diesel']"
   ]
  },
  {
   "cell_type": "code",
   "execution_count": null,
   "metadata": {},
   "outputs": [],
   "source": [
    "inicio = min(consume_data.index)\n",
    "inicio\n",
    "values = consume_data.loc[inicio]\n",
    "print(\"Fecha: \", inicio, \"Valor: \", values['Gasolina superior'])"
   ]
  },
  {
   "cell_type": "code",
   "execution_count": null,
   "metadata": {},
   "outputs": [],
   "source": [
    "fin = max(consume_data.index)\n",
    "fin\n",
    "values = consume_data.loc[fin]\n",
    "print(\"Fecha: \", fin, \"Valor: \", values['Gasolina superior'])"
   ]
  },
  {
   "cell_type": "code",
   "execution_count": null,
   "metadata": {},
   "outputs": [],
   "source": [
    "infer_frec = pd.infer_freq(consume_data['Gasolina superior'].index)\n",
    "infer_frec"
   ]
  },
  {
   "cell_type": "code",
   "execution_count": null,
   "metadata": {},
   "outputs": [],
   "source": [
    "# Replace zero values with NaN\n",
    "consume_data = consume_data.replace(0, np.nan)\n",
    "\n",
    "# Drop rows with NaN values (which were originally zero values)\n",
    "consume_data = consume_data.dropna()"
   ]
  },
  {
   "cell_type": "code",
   "execution_count": null,
   "metadata": {},
   "outputs": [],
   "source": [
    "import matplotlib.dates as mdates\n",
    "\n",
    "# Assuming consume_data is already loaded\n",
    "\n",
    "# Ensure the index is a DatetimeIndex\n",
    "if not isinstance(consume_data.index, pd.DatetimeIndex):\n",
    "    consume_data.index = pd.to_datetime(consume_data.index)\n",
    "\n",
    "# Group the data by year and sum the values\n",
    "consume_data_yearly = consume_data.resample('Y').sum()\n",
    "\n",
    "# Plot the aggregated data\n",
    "plt.plot(consume_data_yearly)\n",
    "\n",
    "# Set the title and labels\n",
    "plt.gca().set(title=\"Cantidad de pasajeros por año\", xlabel=\"Año\", ylabel=\"Cantidad de Pasajeros\")\n",
    "\n",
    "# Format the x-axis to display only the year\n",
    "plt.gca().xaxis.set_major_formatter(mdates.DateFormatter('%Y'))\n",
    "\n",
    "# Add a legend\n",
    "plt.legend(consume_data.columns)"
   ]
  },
  {
   "cell_type": "code",
   "execution_count": null,
   "metadata": {},
   "outputs": [],
   "source": [
    "plt.plot(consume_data)\n",
    "plt.gca().set(title=\"Consumo de gasolina a través del tiempo\", xlabel=\"Año\", ylabel=\"Consumo\")\n",
    "plt.gca().xaxis.set_major_formatter(mdates.DateFormatter('%Y'))\n",
    "plt.legend(consume_data.columns)\n",
    "plt.show()"
   ]
  },
  {
   "cell_type": "code",
   "execution_count": null,
   "metadata": {},
   "outputs": [],
   "source": [
    "# Se calcula la media móvil y la desviación estandar móvil de los últimos 12 meses.\n",
    "mediaMovil = consume_data['Gasolina superior'].rolling(window=12).mean()\n",
    "deMovil = consume_data['Gasolina superior'].rolling(window=12).std()\n",
    "# Se grafican los resultados.\n",
    "original = plt.plot(consume_data['Gasolina superior'], color=\"blue\", label=\"Original\")\n",
    "media = plt.plot(mediaMovil, color='red', label = 'Media Movil')\n",
    "ds = plt.plot(deMovil,color='black', label = 'Desviación Estándar Móvil')\n",
    "plt.legend(loc = 'best')\n",
    "plt.title('Media y desviación estándar móvil de Gasolina Superior')\n",
    "plt.show(block=False)"
   ]
  },
  {
   "cell_type": "code",
   "execution_count": null,
   "metadata": {},
   "outputs": [],
   "source": [
    "descomposicion = seasonal_decompose(consume_data['Gasolina superior'], model='additive', period=12)\n",
    "descomposicion.plot()"
   ]
  },
  {
   "cell_type": "code",
   "execution_count": null,
   "metadata": {},
   "outputs": [],
   "source": [
    "print('Resultados del Test de Dickey Fuller')\n",
    "dfTest = adfuller(consume_data['Gasolina superior'], autolag='AIC')\n",
    "salidaDf = pd.Series(dfTest[0:4], index=['Estadístico de prueba','p-value','# de retardos usados','# de observaciones usadas'])\n",
    "for key,value in dfTest[4].items():\n",
    "        salidaDf['Critical Value (%s)'%key] = value\n",
    "print(salidaDf)"
   ]
  },
  {
   "cell_type": "code",
   "execution_count": null,
   "metadata": {},
   "outputs": [],
   "source": [
    "consume_data = consume_data['Gasolina superior']\n",
    "\n",
    "train_consume_data = consume_data[:'2021']\n",
    "test_consume_data = consume_data['2021':]\n",
    "\n",
    "consume_data_log = np.log(train_consume_data)"
   ]
  },
  {
   "cell_type": "code",
   "execution_count": null,
   "metadata": {},
   "outputs": [],
   "source": [
    "consume_data_log.plot()"
   ]
  },
  {
   "cell_type": "code",
   "execution_count": null,
   "metadata": {},
   "outputs": [],
   "source": [
    "print('Resultados del Test de Dickey Fuller')\n",
    "consume_data_diff = train_consume_data.diff()\n",
    "consume_data_diff.dropna(inplace=True)\n",
    "dfTest = adfuller(consume_data_diff, autolag='AIC')\n",
    "salidaDf = pd.Series(dfTest[0:4], index=['Estadístico de prueba','p-value','# de retardos usados','# de observaciones usadas'])\n",
    "for key,value in dfTest[4].items():\n",
    "        salidaDf['Critical Value (%s)'%key] = value\n",
    "print(salidaDf)"
   ]
  },
  {
   "cell_type": "code",
   "execution_count": null,
   "metadata": {},
   "outputs": [],
   "source": [
    "consume_data_diff.plot()"
   ]
  },
  {
   "cell_type": "code",
   "execution_count": null,
   "metadata": {},
   "outputs": [],
   "source": [
    "plt.rcParams['figure.figsize'] = [15, 5]\n",
    "plt.rcParams['figure.dpi'] = 100 # 200 e.g. is really fine, but slower\n",
    "\n",
    "plt.subplot(121)\n",
    "plt.plot(pacf(consume_data_diff, nlags=36))\n",
    "plt.axhline(y=0,linestyle='--',color='gray')\n",
    "plt.axhline(y=-1.96/np.sqrt(len(consume_data_diff)),linestyle='--',color='gray')\n",
    "plt.axhline(y=1.96/np.sqrt(len(consume_data_diff)),linestyle='--',color='gray')\n",
    "plt.title('Función de Autocorrelación Parcial 36 retardos')\n",
    "\n",
    "plt.subplot(122)\n",
    "plt.plot(pacf(consume_data_diff, nlags=5))\n",
    "plt.axhline(y=0,linestyle='--',color='gray')\n",
    "plt.axhline(y=-1.96/np.sqrt(len(consume_data_diff)),linestyle='--',color='gray')\n",
    "plt.axhline(y=1.96/np.sqrt(len(consume_data_diff)),linestyle='--',color='gray')\n",
    "plt.title('Función de Autocorrelación Parcial 5 retardos')"
   ]
  },
  {
   "cell_type": "code",
   "execution_count": null,
   "metadata": {},
   "outputs": [],
   "source": [
    "\n",
    "plt.rcParams['figure.figsize'] = [15, 5]\n",
    "plt.rcParams['figure.dpi'] = 100 # 200 e.g. is really fine, but slower\n",
    "\n",
    "#Plot ACF: \n",
    "plt.subplot(121) \n",
    "plt.plot(acf(consume_data_diff,nlags=12,fft=False))\n",
    "plt.axhline(y=0,linestyle='--',color='gray')\n",
    "plt.axhline(y=-1.96/np.sqrt(len(consume_data_diff)),linestyle='--',color='gray')\n",
    "plt.axhline(y=1.96/np.sqrt(len(consume_data_diff)),linestyle='--',color='gray')\n",
    "plt.title('Función de Autocorrelación con 12 retardos')\n",
    "\n",
    "plt.subplot(122) \n",
    "plt.plot(acf(consume_data_diff,nlags=5,fft=False))\n",
    "plt.axhline(y=0,linestyle='--',color='gray')\n",
    "plt.axhline(y=-1.96/np.sqrt(len(consume_data_diff)),linestyle='--',color='gray')\n",
    "plt.axhline(y=1.96/np.sqrt(len(consume_data_diff)),linestyle='--',color='gray')\n",
    "plt.title('Función de Autocorrelación con 5 retardos')\n",
    "\n",
    "plt.tight_layout()"
   ]
  },
  {
   "cell_type": "code",
   "execution_count": null,
   "metadata": {},
   "outputs": [],
   "source": [
    "consume_data_log_D = consume_data_log.diff(12)\n",
    "consume_data_log_D.dropna(inplace=True)"
   ]
  },
  {
   "cell_type": "code",
   "execution_count": null,
   "metadata": {},
   "outputs": [],
   "source": [
    "plt.plot(acf(consume_data_diff,nlags=36,fft=False))\n",
    "plt.axhline(y=0,linestyle='--',color='gray')\n",
    "plt.axhline(y=-1.96/np.sqrt(len(consume_data_diff)),linestyle='--',color='gray')\n",
    "plt.axhline(y=1.96/np.sqrt(len(consume_data_diff)),linestyle='--',color='gray')\n",
    "plt.title('Función de Autocorrelación con 36 retardos')\n",
    "plt.rcParams['figure.figsize'] = [15, 5]\n",
    "plt.rcParams['figure.dpi'] = 100 # 200 e.g. is really fine, but slower"
   ]
  },
  {
   "cell_type": "code",
   "execution_count": null,
   "metadata": {},
   "outputs": [],
   "source": [
    "\n",
    "plt.plot(pacf(consume_data_log_D, nlags=15))\n",
    "plt.axhline(y=0,linestyle='--',color='gray')\n",
    "plt.axhline(y=-1.96/np.sqrt(len(consume_data_diff)),linestyle='--',color='gray')\n",
    "plt.axhline(y=1.96/np.sqrt(len(consume_data_diff)),linestyle='--',color='gray')\n",
    "plt.title('Función de Autocorrelación Parcial 5 retardos')\n"
   ]
  },
  {
   "cell_type": "markdown",
   "metadata": {},
   "source": [
    "P = 2\n",
    "D = 1\n",
    "Q = 0"
   ]
  },
  {
   "cell_type": "code",
   "execution_count": null,
   "metadata": {},
   "outputs": [],
   "source": [
    "modelo111 = SARIMAX(consume_data, order=(1,1,1), seasonal_order=(1,1,0,12), enforce_stationarity=False, enforce_invertibility=False)\n",
    "resultado_m111 = modelo111.fit()\n",
    "print(resultado_m111.summary().tables[1])"
   ]
  },
  {
   "cell_type": "code",
   "execution_count": null,
   "metadata": {},
   "outputs": [],
   "source": [
    "modelo211 = SARIMAX(consume_data, order=(2,1,1), seasonal_order=(1,1,0,12), enforce_stationarity=False, enforce_invertibility=False)\n",
    "resultado_m211 = modelo211.fit()\n",
    "print(resultado_m211.summary().tables[1])"
   ]
  },
  {
   "cell_type": "code",
   "execution_count": null,
   "metadata": {},
   "outputs": [],
   "source": [
    "modelo112 = SARIMAX(consume_data, order=(1,1,2), seasonal_order=(2,1,0,12), enforce_stationarity=False, enforce_invertibility=False)\n",
    "\n",
    "resultado_m112 = modelo112.fit()\n",
    "print(resultado_m112.summary().tables[1])"
   ]
  },
  {
   "cell_type": "code",
   "execution_count": null,
   "metadata": {},
   "outputs": [],
   "source": [
    "print(\"Resultados de AIC (Akaike information criterion)\")\n",
    "print(\"Modelo 111=\",resultado_m111.aic)\n",
    "print(\"Modelo 211=\",resultado_m211.aic)\n",
    "print(\"Modelo 112=\",resultado_m112.aic)\n",
    "print(\"Resultados de BIC (Bayesian information criterion)\")\n",
    "print(\"Modelo 111=\",resultado_m111.bic)\n",
    "print(\"Modelo 211=\",resultado_m211.bic)\n",
    "print(\"Modelo 112=\",resultado_m112.aic)"
   ]
  },
  {
   "cell_type": "code",
   "execution_count": null,
   "metadata": {},
   "outputs": [],
   "source": [
    "pred = resultado_m112.get_prediction(start=test_consume_data.index[0], dynamic=False)\n",
    "pred_ci = pred.conf_int()\n",
    "ax = consume_data['2020':].plot(label='observed')\n",
    "pred.predicted_mean.plot(ax=ax, label='One-step ahead Forecast', alpha=.7, figsize=(14, 4))\n",
    "ax.fill_between(pred_ci.iloc[:,0],\n",
    "                pred_ci.iloc[:,1], color='k', alpha=.2)\n",
    "#ax.set_xlabel('Date')\n",
    "#ax.set_ylabel('Retail_sold')\n",
    "plt.legend()\n",
    "plt.show()\n",
    "\n",
    "pred"
   ]
  }
 ],
 "metadata": {
  "kernelspec": {
   "display_name": "Python 3",
   "language": "python",
   "name": "python3"
  },
  "language_info": {
   "codemirror_mode": {
    "name": "ipython",
    "version": 3
   },
   "file_extension": ".py",
   "mimetype": "text/x-python",
   "name": "python",
   "nbconvert_exporter": "python",
   "pygments_lexer": "ipython3",
   "version": "3.11.0"
  }
 },
 "nbformat": 4,
 "nbformat_minor": 2
}
